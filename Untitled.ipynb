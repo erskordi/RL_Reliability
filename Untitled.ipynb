{
 "cells": [
  {
   "cell_type": "markdown",
   "id": "d8618025",
   "metadata": {},
   "source": [
    "# Training agent using DDPG\n",
    "\n",
    "Model-free, off-policy RL method.\n",
    "\n",
    "Two networks here:\n",
    " - Actor: Proposes an action\n",
    " - Critic: Evaluates action based on new state, reward"
   ]
  },
  {
   "cell_type": "code",
   "execution_count": null,
   "id": "dd41863b",
   "metadata": {},
   "outputs": [],
   "source": [
    "import tensorflow as tf\n",
    "from tensorflow.keras import layers\n",
    "import numpy as np\n",
    "import matplotlib.pyplot as plt\n",
    "\n"
   ]
  }
 ],
 "metadata": {
  "kernelspec": {
   "display_name": "Python 3 (ipykernel)",
   "language": "python",
   "name": "python3"
  },
  "language_info": {
   "codemirror_mode": {
    "name": "ipython",
    "version": 3
   },
   "file_extension": ".py",
   "mimetype": "text/x-python",
   "name": "python",
   "nbconvert_exporter": "python",
   "pygments_lexer": "ipython3",
   "version": "3.9.7"
  }
 },
 "nbformat": 4,
 "nbformat_minor": 5
}
