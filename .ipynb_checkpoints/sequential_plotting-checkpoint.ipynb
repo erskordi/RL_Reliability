{
 "cells": [
  {
   "cell_type": "markdown",
   "id": "ad0f0248",
   "metadata": {},
   "source": [
    "# Plotting regimes for further analysis\n",
    "\n",
    "The following plotting segments are not used, but we keep them here for potential future utilization."
   ]
  },
  {
   "cell_type": "markdown",
   "id": "87926a38",
   "metadata": {},
   "source": [
    "## Sequential plotting"
   ]
  },
  {
   "cell_type": "code",
   "execution_count": null,
   "id": "30d67ad3",
   "metadata": {},
   "outputs": [],
   "source": [
    "import matplotlib.pyplot as plt\n",
    "from IPython.display import display, clear_output\n",
    "\n",
    "import numpy as np\n",
    "\n",
    "plt.rcParams[\"figure.figsize\"] = (20,10)\n",
    "\n",
    "fig = plt.figure()\n",
    "ax = fig.add_subplot(1, 1, 1)\n",
    "plt.ylabel(\"Evaluation set size\")\n",
    "\n",
    "x_eval = []\n",
    "avg_x_val = []\n",
    "\n",
    "for i in range(len(df[:np.cumsum(engine_lives[:2])[-1]])):\n",
    "    encoded_data = encoder.predict(tf.reshape(df.iloc[i,1:], [1, -1]), verbose=0)[0]\n",
    "    decoded_data = decoder.predict(encoded_data, verbose=0)\n",
    "\n",
    "    x_eval.append(encoded_data[0])\n",
    "    avg_x_val.append(np.max(x_eval[-20:]))\n",
    "    \n",
    "    ax.cla()\n",
    "    ax.plot(x_eval)\n",
    "    ax.plot(avg_x_val, color='black')\n",
    "    ax.set_xlabel('Instance')\n",
    "    ax.set_ylabel('Latent state')\n",
    "    display(fig)\n",
    "    clear_output(wait=True)\n",
    "    plt.pause(0.001)"
   ]
  },
  {
   "cell_type": "markdown",
   "id": "41334ee1",
   "metadata": {},
   "source": [
    "## Other plots\n",
    "\n",
    "(Optional) plotting snippets, not used for analysis currently"
   ]
  },
  {
   "cell_type": "code",
   "execution_count": null,
   "id": "2ad86c6a",
   "metadata": {},
   "outputs": [],
   "source": [
    "fig, axs = plt.subplots(2, 2, figsize=(15,15))\n",
    "fig.suptitle('True vs Estimated Measurements')\n",
    "plt.rcParams[\"figure.figsize\"] = (10,10)\n",
    "\n",
    "axs[0, 0].plot(df['NormTime'].iloc[0:engine_lives[0]])\n",
    "axs[0, 0].plot(decoded_df['NormTime'].iloc[0:engine_lives[0]], color='black')\n",
    "axs[0, 0].title.set_text('True vs. Est RUL')\n",
    "\n",
    "axs[0, 1].plot(df['Sensor1'].iloc[0:engine_lives[0]])\n",
    "axs[0, 1].plot(decoded_df['Sensor1'].iloc[0:engine_lives[0]], color='black')\n",
    "axs[0, 1].title.set_text('True vs. Est Sensor 1')\n",
    "\n",
    "axs[1, 0].plot(df['Sensor15'].iloc[0:engine_lives[0]])\n",
    "axs[1, 0].plot(decoded_df['Sensor15'].iloc[0:engine_lives[0]], color='black')\n",
    "axs[1, 0].title.set_text('True vs. Est Sensor 15')\n",
    "\n",
    "axs[1, 1].plot(df['OpSetting1'].iloc[0:engine_lives[0]])\n",
    "axs[1, 1].plot(decoded_df['OpSetting1'].iloc[0:engine_lives[0]], color='black')\n",
    "axs[1, 1].title.set_text('True vs. Est Operational Setting 1')"
   ]
  },
  {
   "cell_type": "code",
   "execution_count": null,
   "id": "bf05cc1e",
   "metadata": {},
   "outputs": [],
   "source": [
    "axs[0, 0].plot(test_engine_df['NormTime'])\n",
    "axs[0, 0].plot(eval_df['NormTime'].iloc[:steps_to_go], color='black')\n",
    "axs[0, 0].title.set_text('True vs. Est RUL')\n",
    "axs[0, 0].set_ylim([-0.2,1])\n",
    "\n",
    "axs[0, 1].plot(test_engine_df['Sensor2'])\n",
    "axs[0, 1].plot(eval_df['Sensor2'].iloc[:steps_to_go], color='black')\n",
    "axs[0, 1].title.set_text('True vs. Est Sensor 1')\n",
    "axs[0, 1].set_ylim([0,1])\n",
    "\n",
    "axs[1, 0].plot(test_engine_df['Sensor15'])\n",
    "axs[1, 0].plot(eval_df['Sensor15'].iloc[:steps_to_go], color='black')\n",
    "axs[1, 0].title.set_text('True vs. Est Sensor 15')\n",
    "axs[1, 0].set_ylim([0,1])\n",
    "\n",
    "axs[1, 1].plot(test_engine_df['OpSetting2'])\n",
    "axs[1, 1].plot(eval_df['OpSetting2'].iloc[:steps_to_go], color='black')\n",
    "axs[1, 1].title.set_text('True vs. Est Operational Setting 1')\n",
    "axs[1, 1].set_ylim([0,1])"
   ]
  }
 ],
 "metadata": {
  "kernelspec": {
   "display_name": "Python 3 (ipykernel)",
   "language": "python",
   "name": "python3"
  },
  "language_info": {
   "codemirror_mode": {
    "name": "ipython",
    "version": 3
   },
   "file_extension": ".py",
   "mimetype": "text/x-python",
   "name": "python",
   "nbconvert_exporter": "python",
   "pygments_lexer": "ipython3",
   "version": "3.8.12"
  }
 },
 "nbformat": 4,
 "nbformat_minor": 5
}
