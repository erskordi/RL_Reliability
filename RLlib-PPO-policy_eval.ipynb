{
 "cells": [
  {
   "cell_type": "markdown",
   "id": "a68d3606",
   "metadata": {},
   "source": [
    "## RLlib PPO policy evaluation"
   ]
  },
  {
   "cell_type": "code",
   "execution_count": 1,
   "id": "f31c15d0",
   "metadata": {},
   "outputs": [],
   "source": [
    "import gym\n",
    "import ray\n",
    "from ray.tune.registry import register_env\n",
    "from ray.rllib.agents import ppo\n",
    "from ray import serve"
   ]
  },
  {
   "cell_type": "code",
   "execution_count": 2,
   "id": "e7584b56",
   "metadata": {
    "scrolled": true
   },
   "outputs": [
    {
     "name": "stderr",
     "output_type": "stream",
     "text": [
      "2022-07-05 16:53:37,610\tINFO services.py:1456 -- View the Ray dashboard at \u001b[1m\u001b[32mhttp://127.0.0.1:8265\u001b[39m\u001b[22m\n"
     ]
    },
    {
     "data": {
      "text/plain": [
       "RayContext(dashboard_url='127.0.0.1:8265', python_version='3.8.12', ray_version='1.12.0', ray_commit='f18fc31c7562990955556899090f8e8656b48d2d', address_info={'node_ip_address': '127.0.0.1', 'raylet_ip_address': '127.0.0.1', 'redis_address': None, 'object_store_address': '/tmp/ray/session_2022-07-05_16-53-35_664282_6284/sockets/plasma_store', 'raylet_socket_name': '/tmp/ray/session_2022-07-05_16-53-35_664282_6284/sockets/raylet', 'webui_url': '127.0.0.1:8265', 'session_dir': '/tmp/ray/session_2022-07-05_16-53-35_664282_6284', 'metrics_export_port': 63556, 'gcs_address': '127.0.0.1:58315', 'address': '127.0.0.1:58315', 'node_id': 'c516d04aa537de6c33fd29d4286d01615ed23830c1eb8b73ebdbc978'})"
      ]
     },
     "execution_count": 2,
     "metadata": {},
     "output_type": "execute_result"
    }
   ],
   "source": [
    "ray.init()"
   ]
  },
  {
   "cell_type": "code",
   "execution_count": 3,
   "id": "144ba4bf",
   "metadata": {
    "scrolled": true
   },
   "outputs": [
    {
     "name": "stderr",
     "output_type": "stream",
     "text": [
      "\u001b[2m\u001b[36m(ServeController pid=6336)\u001b[0m 2022-07-05 16:53:41,176\tINFO checkpoint_path.py:15 -- Using RayInternalKVStore for controller checkpoint and recovery.\n",
      "\u001b[2m\u001b[36m(ServeController pid=6336)\u001b[0m 2022-07-05 16:53:41,283\tINFO http_state.py:106 -- Starting HTTP proxy with name 'SERVE_CONTROLLER_ACTOR:XVayib:SERVE_PROXY_ACTOR-node:127.0.0.1-0' on node 'node:127.0.0.1-0' listening on '127.0.0.1:8000'\n",
      "2022-07-05 16:53:41,933\tINFO api.py:794 -- Started Serve instance in namespace '58830699-8fee-4281-8e1e-654328fb16ef'.\n",
      "2022-07-05 16:53:41,937\tINFO api.py:615 -- Updating deployment 'TFEncoderDecoderModel'. component=serve deployment=TFEncoderDecoderModel\n",
      "\u001b[2m\u001b[36m(HTTPProxyActor pid=6339)\u001b[0m INFO:     Started server process [6339]\n",
      "\u001b[2m\u001b[36m(ServeController pid=6336)\u001b[0m 2022-07-05 16:53:42,013\tINFO deployment_state.py:1210 -- Adding 1 replicas to deployment 'TFEncoderDecoderModel'. component=serve deployment=TFEncoderDecoderModel\n",
      "2022-07-05 16:53:45,959\tINFO api.py:630 -- Deployment 'TFEncoderDecoderModel' is ready at `http://127.0.0.1:8000/saved_models`. component=serve deployment=TFEncoderDecoderModel\n"
     ]
    }
   ],
   "source": [
    "from config import Config\n",
    "from data_prep import DataPrep\n",
    "from env import CMAPSSEnv\n",
    "from VAE_dense import *\n",
    "from tf_serve_models import TFEncoderDecoderModel\n",
    "\n",
    "# Load options\n",
    "serve.start()\n",
    "TFEncoderDecoderModel.deploy(['./saved_models/encoder','./saved_models/decoder'])\n",
    "\n",
    "const = Config()\n",
    "neurons = const.VAE_neurons\n",
    "\n",
    "# Data prep\n",
    "# Load the 3rd batch of data which are for policy evaluation\n",
    "data = DataPrep(file = const.file_path,\n",
    "                num_settings = const.num_settings,\n",
    "                num_sensors = const.num_sensors,\n",
    "                num_units = const.num_units[2],\n",
    "                prev_step_units = const.prev_step_units[2],\n",
    "                step = const.step[2],\n",
    "                normalization_type=\"01\")\n",
    "\n",
    "df = data.ReadData()\n",
    "#print(df)\n",
    "\n",
    "# List of engine lifetimes\n",
    "engine_lives = df.groupby(df['Unit']).size()\n",
    "engine_lives = engine_lives.tolist()\n",
    "num_engines = len(engine_lives)\n",
    "\n",
    "# Environment types\n",
    "env_types = [\"batch\", \"intertemporal\"]\n",
    "\n",
    "##########################################\n",
    "env_config = {\n",
    "    \"df\": df,\n",
    "    \"timestep\": 0,\n",
    "    \"obs_size\": const.num_settings+const.num_sensors+1,\n",
    "    \"engines\": num_engines,\n",
    "    \"engine_lives\": engine_lives, \n",
    "    \"models\": [None, None],\n",
    "    \"env_type\": env_types[1],\n",
    "}\n",
    "\n",
    "env_name = \"CMAPSS_env\"\n",
    "env_wrapper_config = gym.wrappers.FrameStack(CMAPSSEnv(**env_config), const.num_frames)\n",
    "register_env(env_name, lambda config: env_wrapper_config)"
   ]
  },
  {
   "cell_type": "code",
   "execution_count": 4,
   "id": "f862c864",
   "metadata": {},
   "outputs": [],
   "source": [
    "# Locate checkpoints\n",
    "\n",
    "checkpoint_path = \"/Users/erotokritosskordilis/ray_results/CMAPSS_env/PPO_CMAPSS_env_faca9_00000_0_2022-07-05_12-10-25/checkpoint_000102/checkpoint-102\"\n",
    "\n"
   ]
  },
  {
   "cell_type": "code",
   "execution_count": 5,
   "id": "1635b63e",
   "metadata": {
    "scrolled": true
   },
   "outputs": [
    {
     "name": "stderr",
     "output_type": "stream",
     "text": [
      "2022-07-05 16:53:50,527\tINFO trainer.py:2295 -- Your framework setting is 'tf', meaning you are using static-graph mode. Set framework='tf2' to enable eager execution with tf2.x. You may also then want to set eager_tracing=True in order to reach similar execution speed as with static-graph mode.\n",
      "2022-07-05 16:53:50,537\tINFO ppo.py:268 -- In multi-agent mode, policies will be optimized sequentially by the multi-GPU optimizer. Consider setting simple_optimizer=True if this doesn't work for you.\n",
      "\u001b[2m\u001b[36m(RolloutWorker pid=6347)\u001b[0m 2022-07-05 16:53:54,699\tWARNING rollout_worker.py:498 -- We've added a module for checking environments that are used in experiments. It will cause your environment to fail if your environment is not set upcorrectly. You can disable check env by setting `disable_env_checking` to True in your experiment config dictionary. You can run the environment checking module standalone by calling ray.rllib.utils.check_env(env).\n",
      "\u001b[2m\u001b[36m(RolloutWorker pid=6347)\u001b[0m 2022-07-05 16:53:54,699\tWARNING env.py:120 -- Your env doesn't have a .spec.max_episode_steps attribute. This is fine if you have set 'horizon' in your config dictionary, or `soft_horizon`. However, if you haven't, 'horizon' will default to infinity, and your environment will not be reset.\n",
      "\u001b[2m\u001b[36m(RolloutWorker pid=6347)\u001b[0m /Users/erotokritosskordilis/opt/anaconda3/envs/py38/lib/python3.8/site-packages/gym/spaces/box.py:142: UserWarning: \u001b[33mWARN: Casting input x to numpy array.\u001b[0m\n",
      "\u001b[2m\u001b[36m(RolloutWorker pid=6347)\u001b[0m   logger.warn(\"Casting input x to numpy array.\")\n",
      "\u001b[2m\u001b[36m(RolloutWorker pid=6347)\u001b[0m /Users/erotokritosskordilis/opt/anaconda3/envs/py38/lib/python3.8/site-packages/gym/spaces/box.py:142: UserWarning: \u001b[33mWARN: Casting input x to numpy array.\u001b[0m\n",
      "\u001b[2m\u001b[36m(RolloutWorker pid=6347)\u001b[0m   logger.warn(\"Casting input x to numpy array.\")\n",
      "\u001b[2m\u001b[36m(RolloutWorker pid=6347)\u001b[0m 2022-07-05 16:53:54,889\tINFO tf_policy.py:166 -- TFPolicy (worker=1) running on CPU.\n",
      "\u001b[2m\u001b[36m(RolloutWorker pid=6347)\u001b[0m 2022-07-05 16:53:54,985\tINFO dynamic_tf_policy.py:709 -- Adding extra-action-fetch `vf_preds` to view-reqs.\n",
      "\u001b[2m\u001b[36m(RolloutWorker pid=6347)\u001b[0m 2022-07-05 16:53:54,985\tINFO dynamic_tf_policy.py:709 -- Adding extra-action-fetch `action_dist_inputs` to view-reqs.\n",
      "\u001b[2m\u001b[36m(RolloutWorker pid=6347)\u001b[0m 2022-07-05 16:53:54,986\tINFO dynamic_tf_policy.py:709 -- Adding extra-action-fetch `action_logp` to view-reqs.\n",
      "\u001b[2m\u001b[36m(RolloutWorker pid=6347)\u001b[0m 2022-07-05 16:53:54,986\tINFO dynamic_tf_policy.py:709 -- Adding extra-action-fetch `action_prob` to view-reqs.\n",
      "\u001b[2m\u001b[36m(RolloutWorker pid=6347)\u001b[0m 2022-07-05 16:53:54,986\tINFO dynamic_tf_policy.py:718 -- Testing `postprocess_trajectory` w/ dummy batch.\n",
      "2022-07-05 16:53:55,517\tINFO worker_set.py:154 -- Inferred observation/action spaces from remote worker (local worker has no env): {'default_policy': (Box([[0. 0. 0. ... 0. 0. 0.]\n",
      " [0. 0. 0. ... 0. 0. 0.]\n",
      " [0. 0. 0. ... 0. 0. 0.]\n",
      " ...\n",
      " [0. 0. 0. ... 0. 0. 0.]\n",
      " [0. 0. 0. ... 0. 0. 0.]\n",
      " [0. 0. 0. ... 0. 0. 0.]], [[1. 1. 1. ... 1. 1. 1.]\n",
      " [1. 1. 1. ... 1. 1. 1.]\n",
      " [1. 1. 1. ... 1. 1. 1.]\n",
      " ...\n",
      " [1. 1. 1. ... 1. 1. 1.]\n",
      " [1. 1. 1. ... 1. 1. 1.]\n",
      " [1. 1. 1. ... 1. 1. 1.]], (100, 25), float32), Box([0. 0.], [1. 1.], (2,), float32)), '__env__': (Box([[0. 0. 0. ... 0. 0. 0.]\n",
      " [0. 0. 0. ... 0. 0. 0.]\n",
      " [0. 0. 0. ... 0. 0. 0.]\n",
      " ...\n",
      " [0. 0. 0. ... 0. 0. 0.]\n",
      " [0. 0. 0. ... 0. 0. 0.]\n",
      " [0. 0. 0. ... 0. 0. 0.]], [[1. 1. 1. ... 1. 1. 1.]\n",
      " [1. 1. 1. ... 1. 1. 1.]\n",
      " [1. 1. 1. ... 1. 1. 1.]\n",
      " ...\n",
      " [1. 1. 1. ... 1. 1. 1.]\n",
      " [1. 1. 1. ... 1. 1. 1.]\n",
      " [1. 1. 1. ... 1. 1. 1.]], (100, 25), float32), Box([0. 0.], [1. 1.], (2,), float32))}\n",
      "2022-07-05 16:53:55,800\tINFO tf_policy.py:166 -- TFPolicy (worker=local) running on CPU.\n",
      "2022-07-05 16:53:55,890\tINFO dynamic_tf_policy.py:709 -- Adding extra-action-fetch `vf_preds` to view-reqs.\n",
      "2022-07-05 16:53:55,891\tINFO dynamic_tf_policy.py:709 -- Adding extra-action-fetch `action_dist_inputs` to view-reqs.\n",
      "2022-07-05 16:53:55,892\tINFO dynamic_tf_policy.py:709 -- Adding extra-action-fetch `action_logp` to view-reqs.\n",
      "2022-07-05 16:53:55,893\tINFO dynamic_tf_policy.py:709 -- Adding extra-action-fetch `action_prob` to view-reqs.\n",
      "2022-07-05 16:53:55,893\tINFO dynamic_tf_policy.py:718 -- Testing `postprocess_trajectory` w/ dummy batch.\n",
      "2022-07-05 16:53:56,424\tINFO rollout_worker.py:1727 -- Built policy map: {}\n",
      "2022-07-05 16:53:56,424\tINFO rollout_worker.py:1728 -- Built preprocessor map: {'default_policy': <ray.rllib.models.preprocessors.NoPreprocessor object at 0x7fb45f07b730>}\n",
      "2022-07-05 16:53:56,424\tINFO rollout_worker.py:666 -- Built filter map: {'default_policy': <ray.rllib.utils.filter.NoFilter object at 0x7fb45fc41040>}\n",
      "2022-07-05 16:53:56,443\tWARNING util.py:60 -- Install gputil for GPU system monitoring.\n",
      "2022-07-05 16:53:56,513\tINFO trainable.py:534 -- Restored on 127.0.0.1 from checkpoint: /Users/erotokritosskordilis/ray_results/CMAPSS_env/PPO_CMAPSS_env_faca9_00000_0_2022-07-05_12-10-25/checkpoint_000102/checkpoint-102\n",
      "2022-07-05 16:53:56,513\tINFO trainable.py:543 -- Current state after restoring: {'_iteration': 102, '_timesteps_total': 804840, '_time_total': 6462.622994184494, '_episodes_total': 7932}\n"
     ]
    }
   ],
   "source": [
    "# Restore agent from last checkpoint\n",
    "\n",
    "agent = ppo.PPOTrainer(\n",
    "    config={\n",
    "            \"env\": env_name,\n",
    "            \"num_workers\": 1,\n",
    "            \"num_gpus\": 0,\n",
    "            \"log_level\": \"INFO\",\n",
    "            \"explore\": False,\n",
    "            \"model\":{\n",
    "                \"fcnet_hiddens\": const.VAE_neurons,\n",
    "                \"fcnet_activation\": \"relu\",\n",
    "                \"free_log_std\": True,\n",
    "            }\n",
    "        })\n",
    "\n",
    "agent.restore(checkpoint_path)"
   ]
  },
  {
   "cell_type": "code",
   "execution_count": 6,
   "id": "9cfe65c9",
   "metadata": {},
   "outputs": [],
   "source": [
    "env = gym.wrappers.FrameStack(CMAPSSEnv(**env_config), const.num_frames)"
   ]
  },
  {
   "cell_type": "code",
   "execution_count": 23,
   "id": "a5f7c3db",
   "metadata": {},
   "outputs": [
    {
     "name": "stdout",
     "output_type": "stream",
     "text": [
      "Current step: 25,System: 1, System life: 273, Steps until failure: 248\n"
     ]
    }
   ],
   "source": [
    "import bisect\n",
    "\n",
    "obs, done = env.reset(), False\n",
    "cntr = 0\n",
    "\n",
    "s = bisect.bisect_left(np.cumsum(engine_lives), env.timestep)\n",
    "steps_to_go = abs(env.timestep - np.cumsum(engine_lives[:s+1])[-1]) - 1\n",
    "current_step = abs(engine_lives[s] - steps_to_go)\n",
    "print(f'Current step: {current_step},System: {s}, System life: {engine_lives[s]}, Steps until failure: {steps_to_go}')"
   ]
  },
  {
   "cell_type": "code",
   "execution_count": 24,
   "id": "01b68545",
   "metadata": {
    "scrolled": true
   },
   "outputs": [
    {
     "data": {
      "text/plain": [
       "(248, 100, 25)"
      ]
     },
     "execution_count": 24,
     "metadata": {},
     "output_type": "execute_result"
    }
   ],
   "source": [
    "eval_data = np.empty([steps_to_go, const.num_frames, const.num_settings + const.num_sensors + 1])\n",
    "eval_data.shape"
   ]
  },
  {
   "cell_type": "code",
   "execution_count": 25,
   "id": "7e0b469d",
   "metadata": {
    "scrolled": false
   },
   "outputs": [],
   "source": [
    "while not done:\n",
    "    action = agent.compute_single_action(obs)\n",
    "    obs, _, done, _ = env.step(action)\n",
    "    eval_data[cntr] = obs\n",
    "    cntr += 1"
   ]
  },
  {
   "cell_type": "code",
   "execution_count": 26,
   "id": "ece30b63",
   "metadata": {},
   "outputs": [
    {
     "data": {
      "text/plain": [
       "array([9.04717636e-01, 9.01005613e-01, 8.97284949e-01, 8.93551976e-01,\n",
       "       8.89823598e-01, 8.86093032e-01, 8.82351328e-01, 8.78580581e-01,\n",
       "       8.74824620e-01, 8.71064399e-01, 8.67283263e-01, 8.63495761e-01,\n",
       "       8.59704177e-01, 8.55880429e-01, 8.52075378e-01, 8.48246499e-01,\n",
       "       8.44434493e-01, 8.40615810e-01, 8.36776399e-01, 8.32903147e-01,\n",
       "       8.29002058e-01, 8.25072704e-01, 8.21110564e-01, 8.17144104e-01,\n",
       "       8.13168347e-01, 8.09189248e-01, 8.05193009e-01, 8.01191790e-01,\n",
       "       7.97141082e-01, 7.93072069e-01, 7.88956246e-01, 7.84780122e-01,\n",
       "       7.80587708e-01, 7.76400188e-01, 7.72172823e-01, 7.67951475e-01,\n",
       "       7.63699304e-01, 7.59469942e-01, 7.55224725e-01, 7.50982113e-01,\n",
       "       7.46740992e-01, 7.42517026e-01, 7.38237324e-01, 7.33909067e-01,\n",
       "       7.29582240e-01, 7.25230519e-01, 7.20889486e-01, 7.16567824e-01,\n",
       "       7.12218577e-01, 7.07844384e-01, 7.03381966e-01, 6.98908686e-01,\n",
       "       6.94375706e-01, 6.89755925e-01, 6.85107627e-01, 6.80427689e-01,\n",
       "       6.75735028e-01, 6.71031671e-01, 6.66299463e-01, 6.61530152e-01,\n",
       "       6.56741656e-01, 6.51893945e-01, 6.46998367e-01, 6.42082993e-01,\n",
       "       6.37152918e-01, 6.32158549e-01, 6.27140537e-01, 6.22118432e-01,\n",
       "       6.17087309e-01, 6.12029290e-01, 6.06971089e-01, 6.01861565e-01,\n",
       "       5.96688667e-01, 5.91527897e-01, 5.86315290e-01, 5.81112025e-01,\n",
       "       5.75839720e-01, 5.70549095e-01, 5.65294303e-01, 5.59967326e-01,\n",
       "       5.54633991e-01, 5.49231132e-01, 5.43814117e-01, 5.38392102e-01,\n",
       "       5.32928783e-01, 5.27458930e-01, 5.21929472e-01, 5.16337230e-01,\n",
       "       5.10727283e-01, 5.05123470e-01, 4.99491710e-01, 4.93830359e-01,\n",
       "       4.88135272e-01, 4.82403439e-01, 4.76610020e-01, 4.70758692e-01,\n",
       "       4.64815796e-01, 4.58816405e-01, 4.52754039e-01, 4.46543033e-01,\n",
       "       4.43971888e-01, 4.41372881e-01, 4.38748681e-01, 4.36097971e-01,\n",
       "       4.33398321e-01, 4.30654344e-01, 4.27876396e-01, 4.25082184e-01,\n",
       "       4.22226409e-01, 4.19331957e-01, 4.16414974e-01, 4.13460070e-01,\n",
       "       4.10464234e-01, 4.07452975e-01, 4.04373934e-01, 4.01268826e-01,\n",
       "       3.98099216e-01, 3.94887896e-01, 3.91648256e-01, 3.88393728e-01,\n",
       "       3.85120889e-01, 3.81826734e-01, 3.78516042e-01, 3.75161358e-01,\n",
       "       3.71759167e-01, 3.68296012e-01, 3.64787655e-01, 3.61221569e-01,\n",
       "       3.57641986e-01, 3.54019357e-01, 3.50372088e-01, 3.46705133e-01,\n",
       "       3.42984576e-01, 3.39192343e-01, 3.35369992e-01, 3.31471211e-01,\n",
       "       3.27532206e-01, 3.23490118e-01, 3.19378309e-01, 3.15182564e-01,\n",
       "       3.10912022e-01, 3.06558618e-01, 3.02199888e-01, 2.97835959e-01,\n",
       "       2.93423888e-01, 2.88985237e-01, 2.84480666e-01, 2.79892755e-01,\n",
       "       2.75262032e-01, 2.70612493e-01, 2.66028301e-01, 2.61444020e-01,\n",
       "       2.56912703e-01, 2.52463821e-01, 2.48040514e-01, 2.43646883e-01,\n",
       "       2.39264352e-01, 2.34891209e-01, 2.30545868e-01, 2.26236779e-01,\n",
       "       2.21946107e-01, 2.17713917e-01, 2.13529005e-01, 2.09363424e-01,\n",
       "       2.05212339e-01, 2.01125505e-01, 1.97062275e-01, 1.93003096e-01,\n",
       "       1.88952896e-01, 1.84929551e-01, 1.80906351e-01, 1.76934438e-01,\n",
       "       1.73025863e-01, 1.69105126e-01, 1.65236190e-01, 1.61357884e-01,\n",
       "       1.57548604e-01, 1.53757624e-01, 1.49930796e-01, 1.46176138e-01,\n",
       "       1.42427820e-01, 1.38749006e-01, 1.35084319e-01, 1.31424600e-01,\n",
       "       1.27806158e-01, 1.24194223e-01, 1.20641855e-01, 1.17152230e-01,\n",
       "       1.13680273e-01, 1.10202141e-01, 1.06751916e-01, 1.03331243e-01,\n",
       "       9.99442729e-02, 9.65940073e-02, 9.33052897e-02, 9.00744447e-02,\n",
       "       8.69351315e-02, 8.38522714e-02, 8.08323425e-02, 7.79609880e-02,\n",
       "       7.51569828e-02, 7.23855311e-02, 6.96478587e-02, 6.69489509e-02,\n",
       "       6.42943370e-02, 6.16861922e-02, 5.91231114e-02, 5.66052923e-02,\n",
       "       5.41342092e-02, 5.17060199e-02, 4.93212265e-02, 4.69806689e-02,\n",
       "       4.46850789e-02, 4.24370320e-02, 4.02380432e-02, 3.80889236e-02,\n",
       "       3.59874105e-02, 3.39342762e-02, 3.19301804e-02, 2.99748061e-02,\n",
       "       2.80655742e-02, 2.62059178e-02, 2.43955800e-02, 2.26335513e-02,\n",
       "       2.09283268e-02, 1.92874120e-02, 1.77088435e-02, 1.61929890e-02,\n",
       "       1.47401234e-02, 1.33486146e-02, 1.20285576e-02, 1.07884894e-02,\n",
       "       9.61831331e-03, 8.51492170e-03, 7.48149509e-03, 6.51848361e-03,\n",
       "       5.62652028e-03, 4.81483277e-03, 4.08872277e-03, 3.44394394e-03,\n",
       "       2.87247017e-03, 2.36670576e-03, 1.92200204e-03, 1.53105075e-03,\n",
       "       1.18681103e-03, 8.94043476e-04, 6.56506036e-04, 4.82935405e-04])"
      ]
     },
     "execution_count": 26,
     "metadata": {},
     "output_type": "execute_result"
    }
   ],
   "source": [
    "eval_data_avg = np.empty([steps_to_go, const.num_settings + const.num_sensors + 1])\n",
    "\n",
    "for i in range(steps_to_go):\n",
    "    eval_data_avg[i] = np.mean(eval_data[i,:,:], axis=0)\n",
    "\n",
    "eval_data_avg[:,0]"
   ]
  },
  {
   "cell_type": "code",
   "execution_count": 27,
   "id": "a5e91bab",
   "metadata": {},
   "outputs": [],
   "source": [
    "test_engine_df = df.iloc[np.cumsum(engine_lives[:s])[-1]+current_step:np.cumsum(engine_lives[:s])[-1]+engine_lives[s],1:].reset_index(drop=True)"
   ]
  },
  {
   "cell_type": "code",
   "execution_count": 28,
   "id": "35123567",
   "metadata": {},
   "outputs": [
    {
     "data": {
      "text/html": [
       "<div>\n",
       "<style scoped>\n",
       "    .dataframe tbody tr th:only-of-type {\n",
       "        vertical-align: middle;\n",
       "    }\n",
       "\n",
       "    .dataframe tbody tr th {\n",
       "        vertical-align: top;\n",
       "    }\n",
       "\n",
       "    .dataframe thead th {\n",
       "        text-align: right;\n",
       "    }\n",
       "</style>\n",
       "<table border=\"1\" class=\"dataframe\">\n",
       "  <thead>\n",
       "    <tr style=\"text-align: right;\">\n",
       "      <th></th>\n",
       "      <th>NormTime</th>\n",
       "      <th>OpSetting1</th>\n",
       "      <th>OpSetting2</th>\n",
       "      <th>OpSetting3</th>\n",
       "      <th>Sensor1</th>\n",
       "      <th>Sensor2</th>\n",
       "      <th>Sensor3</th>\n",
       "      <th>Sensor4</th>\n",
       "      <th>Sensor5</th>\n",
       "      <th>Sensor6</th>\n",
       "      <th>...</th>\n",
       "      <th>Sensor12</th>\n",
       "      <th>Sensor13</th>\n",
       "      <th>Sensor14</th>\n",
       "      <th>Sensor15</th>\n",
       "      <th>Sensor16</th>\n",
       "      <th>Sensor17</th>\n",
       "      <th>Sensor18</th>\n",
       "      <th>Sensor19</th>\n",
       "      <th>Sensor20</th>\n",
       "      <th>Sensor21</th>\n",
       "    </tr>\n",
       "  </thead>\n",
       "  <tbody>\n",
       "    <tr>\n",
       "      <th>0</th>\n",
       "      <td>0.904718</td>\n",
       "      <td>0.331077</td>\n",
       "      <td>0.418949</td>\n",
       "      <td>0.879338</td>\n",
       "      <td>0.640697</td>\n",
       "      <td>0.635771</td>\n",
       "      <td>0.651121</td>\n",
       "      <td>0.605179</td>\n",
       "      <td>0.634090</td>\n",
       "      <td>0.622318</td>\n",
       "      <td>...</td>\n",
       "      <td>0.602894</td>\n",
       "      <td>0.873876</td>\n",
       "      <td>0.599721</td>\n",
       "      <td>0.241173</td>\n",
       "      <td>0.558381</td>\n",
       "      <td>0.641241</td>\n",
       "      <td>0.780860</td>\n",
       "      <td>0.879434</td>\n",
       "      <td>0.612179</td>\n",
       "      <td>0.614778</td>\n",
       "    </tr>\n",
       "    <tr>\n",
       "      <th>1</th>\n",
       "      <td>0.901006</td>\n",
       "      <td>0.332632</td>\n",
       "      <td>0.420577</td>\n",
       "      <td>0.878677</td>\n",
       "      <td>0.638343</td>\n",
       "      <td>0.633631</td>\n",
       "      <td>0.649356</td>\n",
       "      <td>0.603517</td>\n",
       "      <td>0.631803</td>\n",
       "      <td>0.620083</td>\n",
       "      <td>...</td>\n",
       "      <td>0.600586</td>\n",
       "      <td>0.873243</td>\n",
       "      <td>0.598779</td>\n",
       "      <td>0.242020</td>\n",
       "      <td>0.556762</td>\n",
       "      <td>0.639504</td>\n",
       "      <td>0.779480</td>\n",
       "      <td>0.878869</td>\n",
       "      <td>0.609971</td>\n",
       "      <td>0.612523</td>\n",
       "    </tr>\n",
       "    <tr>\n",
       "      <th>2</th>\n",
       "      <td>0.897285</td>\n",
       "      <td>0.334185</td>\n",
       "      <td>0.422205</td>\n",
       "      <td>0.878015</td>\n",
       "      <td>0.635989</td>\n",
       "      <td>0.631491</td>\n",
       "      <td>0.647591</td>\n",
       "      <td>0.601855</td>\n",
       "      <td>0.629516</td>\n",
       "      <td>0.617848</td>\n",
       "      <td>...</td>\n",
       "      <td>0.598278</td>\n",
       "      <td>0.872609</td>\n",
       "      <td>0.597836</td>\n",
       "      <td>0.242866</td>\n",
       "      <td>0.555143</td>\n",
       "      <td>0.637767</td>\n",
       "      <td>0.778099</td>\n",
       "      <td>0.878303</td>\n",
       "      <td>0.607763</td>\n",
       "      <td>0.610268</td>\n",
       "    </tr>\n",
       "    <tr>\n",
       "      <th>3</th>\n",
       "      <td>0.893552</td>\n",
       "      <td>0.335739</td>\n",
       "      <td>0.423832</td>\n",
       "      <td>0.877354</td>\n",
       "      <td>0.633635</td>\n",
       "      <td>0.629351</td>\n",
       "      <td>0.645826</td>\n",
       "      <td>0.600193</td>\n",
       "      <td>0.627230</td>\n",
       "      <td>0.615614</td>\n",
       "      <td>...</td>\n",
       "      <td>0.595970</td>\n",
       "      <td>0.871976</td>\n",
       "      <td>0.596894</td>\n",
       "      <td>0.243712</td>\n",
       "      <td>0.553526</td>\n",
       "      <td>0.636030</td>\n",
       "      <td>0.776720</td>\n",
       "      <td>0.877738</td>\n",
       "      <td>0.605555</td>\n",
       "      <td>0.608014</td>\n",
       "    </tr>\n",
       "    <tr>\n",
       "      <th>4</th>\n",
       "      <td>0.889824</td>\n",
       "      <td>0.337292</td>\n",
       "      <td>0.425460</td>\n",
       "      <td>0.876692</td>\n",
       "      <td>0.631282</td>\n",
       "      <td>0.627211</td>\n",
       "      <td>0.644062</td>\n",
       "      <td>0.598532</td>\n",
       "      <td>0.624943</td>\n",
       "      <td>0.613379</td>\n",
       "      <td>...</td>\n",
       "      <td>0.593662</td>\n",
       "      <td>0.871343</td>\n",
       "      <td>0.595952</td>\n",
       "      <td>0.244558</td>\n",
       "      <td>0.551908</td>\n",
       "      <td>0.634293</td>\n",
       "      <td>0.775340</td>\n",
       "      <td>0.877173</td>\n",
       "      <td>0.603347</td>\n",
       "      <td>0.605759</td>\n",
       "    </tr>\n",
       "    <tr>\n",
       "      <th>5</th>\n",
       "      <td>0.886093</td>\n",
       "      <td>0.338846</td>\n",
       "      <td>0.427087</td>\n",
       "      <td>0.876031</td>\n",
       "      <td>0.628928</td>\n",
       "      <td>0.625072</td>\n",
       "      <td>0.642297</td>\n",
       "      <td>0.596870</td>\n",
       "      <td>0.622657</td>\n",
       "      <td>0.611145</td>\n",
       "      <td>...</td>\n",
       "      <td>0.591354</td>\n",
       "      <td>0.870709</td>\n",
       "      <td>0.595009</td>\n",
       "      <td>0.245404</td>\n",
       "      <td>0.550290</td>\n",
       "      <td>0.632556</td>\n",
       "      <td>0.773960</td>\n",
       "      <td>0.876608</td>\n",
       "      <td>0.601139</td>\n",
       "      <td>0.603505</td>\n",
       "    </tr>\n",
       "    <tr>\n",
       "      <th>6</th>\n",
       "      <td>0.882351</td>\n",
       "      <td>0.340399</td>\n",
       "      <td>0.428714</td>\n",
       "      <td>0.875370</td>\n",
       "      <td>0.626575</td>\n",
       "      <td>0.622932</td>\n",
       "      <td>0.640532</td>\n",
       "      <td>0.595209</td>\n",
       "      <td>0.620371</td>\n",
       "      <td>0.608911</td>\n",
       "      <td>...</td>\n",
       "      <td>0.589047</td>\n",
       "      <td>0.870076</td>\n",
       "      <td>0.594067</td>\n",
       "      <td>0.246250</td>\n",
       "      <td>0.548673</td>\n",
       "      <td>0.630819</td>\n",
       "      <td>0.772580</td>\n",
       "      <td>0.876043</td>\n",
       "      <td>0.598932</td>\n",
       "      <td>0.601251</td>\n",
       "    </tr>\n",
       "    <tr>\n",
       "      <th>7</th>\n",
       "      <td>0.878581</td>\n",
       "      <td>0.341952</td>\n",
       "      <td>0.430339</td>\n",
       "      <td>0.874709</td>\n",
       "      <td>0.624223</td>\n",
       "      <td>0.620794</td>\n",
       "      <td>0.638768</td>\n",
       "      <td>0.593548</td>\n",
       "      <td>0.618085</td>\n",
       "      <td>0.606678</td>\n",
       "      <td>...</td>\n",
       "      <td>0.586740</td>\n",
       "      <td>0.869444</td>\n",
       "      <td>0.593126</td>\n",
       "      <td>0.247095</td>\n",
       "      <td>0.547058</td>\n",
       "      <td>0.629083</td>\n",
       "      <td>0.771201</td>\n",
       "      <td>0.875478</td>\n",
       "      <td>0.596726</td>\n",
       "      <td>0.598997</td>\n",
       "    </tr>\n",
       "    <tr>\n",
       "      <th>8</th>\n",
       "      <td>0.874825</td>\n",
       "      <td>0.343504</td>\n",
       "      <td>0.431965</td>\n",
       "      <td>0.874048</td>\n",
       "      <td>0.621871</td>\n",
       "      <td>0.618655</td>\n",
       "      <td>0.637004</td>\n",
       "      <td>0.591886</td>\n",
       "      <td>0.615799</td>\n",
       "      <td>0.604444</td>\n",
       "      <td>...</td>\n",
       "      <td>0.584433</td>\n",
       "      <td>0.868811</td>\n",
       "      <td>0.592184</td>\n",
       "      <td>0.247940</td>\n",
       "      <td>0.545442</td>\n",
       "      <td>0.627347</td>\n",
       "      <td>0.769822</td>\n",
       "      <td>0.874914</td>\n",
       "      <td>0.594519</td>\n",
       "      <td>0.596744</td>\n",
       "    </tr>\n",
       "    <tr>\n",
       "      <th>9</th>\n",
       "      <td>0.871064</td>\n",
       "      <td>0.345057</td>\n",
       "      <td>0.433591</td>\n",
       "      <td>0.873387</td>\n",
       "      <td>0.619518</td>\n",
       "      <td>0.616516</td>\n",
       "      <td>0.635240</td>\n",
       "      <td>0.590225</td>\n",
       "      <td>0.613514</td>\n",
       "      <td>0.602211</td>\n",
       "      <td>...</td>\n",
       "      <td>0.582126</td>\n",
       "      <td>0.868179</td>\n",
       "      <td>0.591242</td>\n",
       "      <td>0.248785</td>\n",
       "      <td>0.543826</td>\n",
       "      <td>0.625611</td>\n",
       "      <td>0.768443</td>\n",
       "      <td>0.874349</td>\n",
       "      <td>0.592312</td>\n",
       "      <td>0.594490</td>\n",
       "    </tr>\n",
       "  </tbody>\n",
       "</table>\n",
       "<p>10 rows × 25 columns</p>\n",
       "</div>"
      ],
      "text/plain": [
       "   NormTime  OpSetting1  OpSetting2  OpSetting3   Sensor1   Sensor2   Sensor3  \\\n",
       "0  0.904718    0.331077    0.418949    0.879338  0.640697  0.635771  0.651121   \n",
       "1  0.901006    0.332632    0.420577    0.878677  0.638343  0.633631  0.649356   \n",
       "2  0.897285    0.334185    0.422205    0.878015  0.635989  0.631491  0.647591   \n",
       "3  0.893552    0.335739    0.423832    0.877354  0.633635  0.629351  0.645826   \n",
       "4  0.889824    0.337292    0.425460    0.876692  0.631282  0.627211  0.644062   \n",
       "5  0.886093    0.338846    0.427087    0.876031  0.628928  0.625072  0.642297   \n",
       "6  0.882351    0.340399    0.428714    0.875370  0.626575  0.622932  0.640532   \n",
       "7  0.878581    0.341952    0.430339    0.874709  0.624223  0.620794  0.638768   \n",
       "8  0.874825    0.343504    0.431965    0.874048  0.621871  0.618655  0.637004   \n",
       "9  0.871064    0.345057    0.433591    0.873387  0.619518  0.616516  0.635240   \n",
       "\n",
       "    Sensor4   Sensor5   Sensor6  ...  Sensor12  Sensor13  Sensor14  Sensor15  \\\n",
       "0  0.605179  0.634090  0.622318  ...  0.602894  0.873876  0.599721  0.241173   \n",
       "1  0.603517  0.631803  0.620083  ...  0.600586  0.873243  0.598779  0.242020   \n",
       "2  0.601855  0.629516  0.617848  ...  0.598278  0.872609  0.597836  0.242866   \n",
       "3  0.600193  0.627230  0.615614  ...  0.595970  0.871976  0.596894  0.243712   \n",
       "4  0.598532  0.624943  0.613379  ...  0.593662  0.871343  0.595952  0.244558   \n",
       "5  0.596870  0.622657  0.611145  ...  0.591354  0.870709  0.595009  0.245404   \n",
       "6  0.595209  0.620371  0.608911  ...  0.589047  0.870076  0.594067  0.246250   \n",
       "7  0.593548  0.618085  0.606678  ...  0.586740  0.869444  0.593126  0.247095   \n",
       "8  0.591886  0.615799  0.604444  ...  0.584433  0.868811  0.592184  0.247940   \n",
       "9  0.590225  0.613514  0.602211  ...  0.582126  0.868179  0.591242  0.248785   \n",
       "\n",
       "   Sensor16  Sensor17  Sensor18  Sensor19  Sensor20  Sensor21  \n",
       "0  0.558381  0.641241  0.780860  0.879434  0.612179  0.614778  \n",
       "1  0.556762  0.639504  0.779480  0.878869  0.609971  0.612523  \n",
       "2  0.555143  0.637767  0.778099  0.878303  0.607763  0.610268  \n",
       "3  0.553526  0.636030  0.776720  0.877738  0.605555  0.608014  \n",
       "4  0.551908  0.634293  0.775340  0.877173  0.603347  0.605759  \n",
       "5  0.550290  0.632556  0.773960  0.876608  0.601139  0.603505  \n",
       "6  0.548673  0.630819  0.772580  0.876043  0.598932  0.601251  \n",
       "7  0.547058  0.629083  0.771201  0.875478  0.596726  0.598997  \n",
       "8  0.545442  0.627347  0.769822  0.874914  0.594519  0.596744  \n",
       "9  0.543826  0.625611  0.768443  0.874349  0.592312  0.594490  \n",
       "\n",
       "[10 rows x 25 columns]"
      ]
     },
     "execution_count": 28,
     "metadata": {},
     "output_type": "execute_result"
    }
   ],
   "source": [
    "import pandas as pd\n",
    "\n",
    "eval_df = pd.DataFrame(eval_data_avg, columns=df.columns[1:])\n",
    "eval_df.head(10)"
   ]
  },
  {
   "cell_type": "code",
   "execution_count": 29,
   "id": "1dd290eb",
   "metadata": {
    "scrolled": false
   },
   "outputs": [
    {
     "data": {
      "text/plain": [
       "Text(0, 0.5, 'RUL (%)')"
      ]
     },
     "execution_count": 29,
     "metadata": {},
     "output_type": "execute_result"
    },
    {
     "data": {
      "image/png": "[encoded data removed]",
      "text/plain": [
       "<Figure size 1440x720 with 1 Axes>"
      ]
     },
     "metadata": {
      "needs_background": "light"
     },
     "output_type": "display_data"
    }
   ],
   "source": [
    "import matplotlib.pyplot as plt\n",
    "plt.rcParams[\"figure.figsize\"] = (20,10)\n",
    "\n",
    "plt.plot(test_engine_df['NormTime'])\n",
    "plt.plot(eval_df['NormTime'].iloc[:steps_to_go], color='black')\n",
    "plt.title('True vs. Est RUL')\n",
    "plt.xlabel('RUL')\n",
    "plt.ylabel('RUL (%)')\n"
   ]
  },
  {
   "cell_type": "code",
   "execution_count": 30,
   "id": "d72c3787",
   "metadata": {},
   "outputs": [
    {
     "data": {
      "text/plain": [
       "(0.0, 1.0)"
      ]
     },
     "execution_count": 30,
     "metadata": {},
     "output_type": "execute_result"
    },
    {
     "data": {
      "image/png": "[encoded data removed]",
      "text/plain": [
       "<Figure size 1080x1080 with 4 Axes>"
      ]
     },
     "metadata": {
      "needs_background": "light"
     },
     "output_type": "display_data"
    }
   ],
   "source": [
    "# '''\n",
    "fig, axs = plt.subplots(2, 2, figsize=(15,15))\n",
    "fig.suptitle('True vs Estimated Measurements')\n",
    "plt.rcParams[\"figure.figsize\"] = (10,10)\n",
    "\n",
    "axs[0, 0].plot(test_engine_df['NormTime'])\n",
    "axs[0, 0].plot(eval_df['NormTime'].iloc[:steps_to_go], color='black')\n",
    "axs[0, 0].title.set_text('True vs. Est RUL')\n",
    "axs[0, 0].set_ylim([-0.2,1])\n",
    "\n",
    "axs[0, 1].plot(test_engine_df['Sensor2'])\n",
    "axs[0, 1].plot(eval_df['Sensor2'].iloc[:steps_to_go], color='black')\n",
    "axs[0, 1].title.set_text('True vs. Est Sensor 1')\n",
    "axs[0, 1].set_ylim([0,1])\n",
    "\n",
    "axs[1, 0].plot(test_engine_df['Sensor15'])\n",
    "axs[1, 0].plot(eval_df['Sensor15'].iloc[:steps_to_go], color='black')\n",
    "axs[1, 0].title.set_text('True vs. Est Sensor 15')\n",
    "axs[1, 0].set_ylim([0,1])\n",
    "\n",
    "axs[1, 1].plot(test_engine_df['OpSetting2'])\n",
    "axs[1, 1].plot(eval_df['OpSetting2'].iloc[:steps_to_go], color='black')\n",
    "axs[1, 1].title.set_text('True vs. Est Operational Setting 1')\n",
    "axs[1, 1].set_ylim([0,1])\n"
   ]
  },
  {
   "cell_type": "code",
   "execution_count": 62,
   "id": "86e11539",
   "metadata": {},
   "outputs": [],
   "source": [
    "ray.shutdown()"
   ]
  },
  {
   "cell_type": "code",
   "execution_count": null,
   "id": "a5895123",
   "metadata": {},
   "outputs": [],
   "source": []
  }
 ],
 "metadata": {
  "kernelspec": {
   "display_name": "Python 3 (ipykernel)",
   "language": "python",
   "name": "python3"
  },
  "language_info": {
   "codemirror_mode": {
    "name": "ipython",
    "version": 3
   },
   "file_extension": ".py",
   "mimetype": "text/x-python",
   "name": "python",
   "nbconvert_exporter": "python",
   "pygments_lexer": "ipython3",
   "version": "3.8.12"
  }
 },
 "nbformat": 4,
 "nbformat_minor": 5
}
