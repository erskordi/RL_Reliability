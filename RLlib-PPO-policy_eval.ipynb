{
 "cells": [
  {
   "cell_type": "markdown",
   "id": "a68d3606",
   "metadata": {},
   "source": [
    "## RLlib PPO policy evaluation"
   ]
  },
  {
   "cell_type": "code",
   "execution_count": 1,
   "id": "f31c15d0",
   "metadata": {},
   "outputs": [],
   "source": [
    "import gym\n",
    "import ray\n",
    "from ray.tune.registry import register_env\n",
    "from ray.rllib.agents import ppo\n",
    "from ray import serve"
   ]
  },
  {
   "cell_type": "code",
   "execution_count": 2,
   "id": "e7584b56",
   "metadata": {
    "scrolled": true
   },
   "outputs": [
    {
     "name": "stderr",
     "output_type": "stream",
     "text": [
      "2022-07-06 17:25:49,455\tINFO services.py:1456 -- View the Ray dashboard at \u001b[1m\u001b[32mhttp://127.0.0.1:8265\u001b[39m\u001b[22m\n"
     ]
    },
    {
     "data": {
      "text/plain": [
       "RayContext(dashboard_url='127.0.0.1:8265', python_version='3.8.12', ray_version='1.12.0', ray_commit='f18fc31c7562990955556899090f8e8656b48d2d', address_info={'node_ip_address': '127.0.0.1', 'raylet_ip_address': '127.0.0.1', 'redis_address': None, 'object_store_address': '/tmp/ray/session_2022-07-06_17-25-47_173302_45621/sockets/plasma_store', 'raylet_socket_name': '/tmp/ray/session_2022-07-06_17-25-47_173302_45621/sockets/raylet', 'webui_url': '127.0.0.1:8265', 'session_dir': '/tmp/ray/session_2022-07-06_17-25-47_173302_45621', 'metrics_export_port': 60817, 'gcs_address': '127.0.0.1:64671', 'address': '127.0.0.1:64671', 'node_id': 'f11f772259e1920b16ac3af372dc47847c0c5d7f31d02cc30a4d410e'})"
      ]
     },
     "execution_count": 2,
     "metadata": {},
     "output_type": "execute_result"
    }
   ],
   "source": [
    "ray.init()"
   ]
  },
  {
   "cell_type": "code",
   "execution_count": 3,
   "id": "144ba4bf",
   "metadata": {
    "scrolled": true
   },
   "outputs": [
    {
     "name": "stderr",
     "output_type": "stream",
     "text": [
      "\u001b[2m\u001b[36m(ServeController pid=45677)\u001b[0m 2022-07-06 17:25:54,935\tINFO checkpoint_path.py:15 -- Using RayInternalKVStore for controller checkpoint and recovery.\n",
      "\u001b[2m\u001b[36m(ServeController pid=45677)\u001b[0m 2022-07-06 17:25:55,040\tINFO http_state.py:106 -- Starting HTTP proxy with name 'SERVE_CONTROLLER_ACTOR:oIBMAf:SERVE_PROXY_ACTOR-node:127.0.0.1-0' on node 'node:127.0.0.1-0' listening on '127.0.0.1:8000'\n",
      "2022-07-06 17:25:55,813\tINFO api.py:794 -- Started Serve instance in namespace '9459bec7-0b86-4ad2-a562-272a9e2037bf'.\n",
      "2022-07-06 17:25:55,825\tINFO api.py:615 -- Updating deployment 'TFEncoderDecoderModel'. component=serve deployment=TFEncoderDecoderModel\n",
      "\u001b[2m\u001b[36m(ServeController pid=45677)\u001b[0m 2022-07-06 17:25:55,871\tINFO deployment_state.py:1210 -- Adding 1 replicas to deployment 'TFEncoderDecoderModel'. component=serve deployment=TFEncoderDecoderModel\n",
      "\u001b[2m\u001b[36m(HTTPProxyActor pid=45679)\u001b[0m INFO:     Started server process [45679]\n",
      "2022-07-06 17:25:59,849\tINFO api.py:630 -- Deployment 'TFEncoderDecoderModel' is ready at `http://127.0.0.1:8000/saved_models`. component=serve deployment=TFEncoderDecoderModel\n"
     ]
    }
   ],
   "source": [
    "from config import Config\n",
    "from data_prep import DataPrep\n",
    "from env import CMAPSSEnv\n",
    "from VAE_dense import *\n",
    "from tf_serve_models import TFEncoderDecoderModel\n",
    "\n",
    "# Load options\n",
    "serve.start()\n",
    "TFEncoderDecoderModel.deploy(['./saved_models/encoder','./saved_models/decoder'])\n",
    "\n",
    "const = Config()\n",
    "neurons = const.VAE_neurons\n",
    "\n",
    "# Data prep\n",
    "# Load the 3rd batch of data which are for policy evaluation\n",
    "data = DataPrep(file = const.file_path,\n",
    "                num_settings = const.num_settings,\n",
    "                num_sensors = const.num_sensors,\n",
    "                num_units = const.num_units[2],\n",
    "                prev_step_units = const.prev_step_units[2],\n",
    "                step = const.step[2],\n",
    "                normalization_type=\"01\")\n",
    "\n",
    "df = data.ReadData()\n",
    "#print(df)\n",
    "\n",
    "# List of engine lifetimes\n",
    "engine_lives = df.groupby(df['Unit']).size()\n",
    "engine_lives = engine_lives.tolist()\n",
    "num_engines = len(engine_lives)\n",
    "\n",
    "# Environment types\n",
    "env_types = [\"batch\", \"intertemporal\"]\n",
    "\n",
    "##########################################\n",
    "env_config = {\n",
    "    \"df\": df,\n",
    "    \"timestep\": 0,\n",
    "    \"obs_size\": const.num_settings+const.num_sensors+1,\n",
    "    \"engines\": num_engines,\n",
    "    \"engine_lives\": engine_lives, \n",
    "    \"models\": [None, None],\n",
    "    \"env_type\": env_types[1],\n",
    "}\n",
    "\n",
    "env_name = \"CMAPSS_env\"\n",
    "env_wrapper_config = gym.wrappers.FrameStack(CMAPSSEnv(**env_config), const.num_frames)\n",
    "register_env(env_name, lambda config: env_wrapper_config)"
   ]
  },
  {
   "cell_type": "code",
   "execution_count": 4,
   "id": "f862c864",
   "metadata": {},
   "outputs": [],
   "source": [
    "# Locate checkpoints\n",
    "\n",
    "checkpoint_path = \"/Users/erotokritosskordilis/ray_results/CMAPSS_env/PPO_CMAPSS_env_f4dc4_00000_0_2022-07-06_16-48-15/checkpoint_000033/checkpoint-33\"\n"
   ]
  },
  {
   "cell_type": "code",
   "execution_count": 5,
   "id": "1635b63e",
   "metadata": {
    "scrolled": true
   },
   "outputs": [
    {
     "name": "stderr",
     "output_type": "stream",
     "text": [
      "2022-07-06 17:26:03,917\tINFO trainer.py:2295 -- Your framework setting is 'tf', meaning you are using static-graph mode. Set framework='tf2' to enable eager execution with tf2.x. You may also then want to set eager_tracing=True in order to reach similar execution speed as with static-graph mode.\n",
      "2022-07-06 17:26:03,934\tINFO ppo.py:268 -- In multi-agent mode, policies will be optimized sequentially by the multi-GPU optimizer. Consider setting simple_optimizer=True if this doesn't work for you.\n",
      "\u001b[2m\u001b[36m(RolloutWorker pid=45686)\u001b[0m 2022-07-06 17:26:09,232\tWARNING rollout_worker.py:498 -- We've added a module for checking environments that are used in experiments. It will cause your environment to fail if your environment is not set upcorrectly. You can disable check env by setting `disable_env_checking` to True in your experiment config dictionary. You can run the environment checking module standalone by calling ray.rllib.utils.check_env(env).\n",
      "\u001b[2m\u001b[36m(RolloutWorker pid=45686)\u001b[0m 2022-07-06 17:26:09,232\tWARNING env.py:120 -- Your env doesn't have a .spec.max_episode_steps attribute. This is fine if you have set 'horizon' in your config dictionary, or `soft_horizon`. However, if you haven't, 'horizon' will default to infinity, and your environment will not be reset.\n",
      "\u001b[2m\u001b[36m(RolloutWorker pid=45686)\u001b[0m /Users/erotokritosskordilis/opt/anaconda3/envs/py38/lib/python3.8/site-packages/gym/spaces/box.py:142: UserWarning: \u001b[33mWARN: Casting input x to numpy array.\u001b[0m\n",
      "\u001b[2m\u001b[36m(RolloutWorker pid=45686)\u001b[0m   logger.warn(\"Casting input x to numpy array.\")\n",
      "\u001b[2m\u001b[36m(RolloutWorker pid=45686)\u001b[0m /Users/erotokritosskordilis/opt/anaconda3/envs/py38/lib/python3.8/site-packages/gym/spaces/box.py:142: UserWarning: \u001b[33mWARN: Casting input x to numpy array.\u001b[0m\n",
      "\u001b[2m\u001b[36m(RolloutWorker pid=45686)\u001b[0m   logger.warn(\"Casting input x to numpy array.\")\n",
      "\u001b[2m\u001b[36m(RolloutWorker pid=45686)\u001b[0m 2022-07-06 17:26:09,488\tINFO tf_policy.py:166 -- TFPolicy (worker=1) running on CPU.\n",
      "\u001b[2m\u001b[36m(RolloutWorker pid=45686)\u001b[0m 2022-07-06 17:26:09,709\tINFO dynamic_tf_policy.py:709 -- Adding extra-action-fetch `vf_preds` to view-reqs.\n",
      "\u001b[2m\u001b[36m(RolloutWorker pid=45686)\u001b[0m 2022-07-06 17:26:09,710\tINFO dynamic_tf_policy.py:709 -- Adding extra-action-fetch `action_dist_inputs` to view-reqs.\n",
      "\u001b[2m\u001b[36m(RolloutWorker pid=45686)\u001b[0m 2022-07-06 17:26:09,710\tINFO dynamic_tf_policy.py:709 -- Adding extra-action-fetch `action_logp` to view-reqs.\n",
      "\u001b[2m\u001b[36m(RolloutWorker pid=45686)\u001b[0m 2022-07-06 17:26:09,711\tINFO dynamic_tf_policy.py:709 -- Adding extra-action-fetch `action_prob` to view-reqs.\n",
      "\u001b[2m\u001b[36m(RolloutWorker pid=45686)\u001b[0m 2022-07-06 17:26:09,711\tINFO dynamic_tf_policy.py:718 -- Testing `postprocess_trajectory` w/ dummy batch.\n",
      "2022-07-06 17:26:11,090\tINFO worker_set.py:154 -- Inferred observation/action spaces from remote worker (local worker has no env): {'default_policy': (Box([[0. 0. 0. ... 0. 0. 0.]\n",
      " [0. 0. 0. ... 0. 0. 0.]\n",
      " [0. 0. 0. ... 0. 0. 0.]\n",
      " ...\n",
      " [0. 0. 0. ... 0. 0. 0.]\n",
      " [0. 0. 0. ... 0. 0. 0.]\n",
      " [0. 0. 0. ... 0. 0. 0.]], [[1. 1. 1. ... 1. 1. 1.]\n",
      " [1. 1. 1. ... 1. 1. 1.]\n",
      " [1. 1. 1. ... 1. 1. 1.]\n",
      " ...\n",
      " [1. 1. 1. ... 1. 1. 1.]\n",
      " [1. 1. 1. ... 1. 1. 1.]\n",
      " [1. 1. 1. ... 1. 1. 1.]], (100, 25), float32), Box([0. 0.], [1. 1.], (2,), float32)), '__env__': (Box([[0. 0. 0. ... 0. 0. 0.]\n",
      " [0. 0. 0. ... 0. 0. 0.]\n",
      " [0. 0. 0. ... 0. 0. 0.]\n",
      " ...\n",
      " [0. 0. 0. ... 0. 0. 0.]\n",
      " [0. 0. 0. ... 0. 0. 0.]\n",
      " [0. 0. 0. ... 0. 0. 0.]], [[1. 1. 1. ... 1. 1. 1.]\n",
      " [1. 1. 1. ... 1. 1. 1.]\n",
      " [1. 1. 1. ... 1. 1. 1.]\n",
      " ...\n",
      " [1. 1. 1. ... 1. 1. 1.]\n",
      " [1. 1. 1. ... 1. 1. 1.]\n",
      " [1. 1. 1. ... 1. 1. 1.]], (100, 25), float32), Box([0. 0.], [1. 1.], (2,), float32))}\n",
      "2022-07-06 17:26:11,890\tINFO tf_policy.py:166 -- TFPolicy (worker=local) running on CPU.\n",
      "2022-07-06 17:26:12,107\tINFO dynamic_tf_policy.py:709 -- Adding extra-action-fetch `vf_preds` to view-reqs.\n",
      "2022-07-06 17:26:12,108\tINFO dynamic_tf_policy.py:709 -- Adding extra-action-fetch `action_dist_inputs` to view-reqs.\n",
      "2022-07-06 17:26:12,109\tINFO dynamic_tf_policy.py:709 -- Adding extra-action-fetch `action_logp` to view-reqs.\n",
      "2022-07-06 17:26:12,110\tINFO dynamic_tf_policy.py:709 -- Adding extra-action-fetch `action_prob` to view-reqs.\n",
      "2022-07-06 17:26:12,111\tINFO dynamic_tf_policy.py:718 -- Testing `postprocess_trajectory` w/ dummy batch.\n",
      "2022-07-06 17:26:12,754\tINFO rollout_worker.py:1727 -- Built policy map: {}\n",
      "2022-07-06 17:26:12,755\tINFO rollout_worker.py:1728 -- Built preprocessor map: {'default_policy': <ray.rllib.models.preprocessors.NoPreprocessor object at 0x7fd421bbb880>}\n",
      "2022-07-06 17:26:12,756\tINFO rollout_worker.py:666 -- Built filter map: {'default_policy': <ray.rllib.utils.filter.NoFilter object at 0x7fd425111070>}\n",
      "2022-07-06 17:26:12,777\tWARNING util.py:60 -- Install gputil for GPU system monitoring.\n",
      "2022-07-06 17:26:12,857\tINFO trainable.py:534 -- Restored on 127.0.0.1 from checkpoint: /Users/erotokritosskordilis/ray_results/CMAPSS_env/PPO_CMAPSS_env_f4dc4_00000_0_2022-07-06_16-48-15/checkpoint_000033/checkpoint-33\n",
      "2022-07-06 17:26:12,858\tINFO trainable.py:543 -- Current state after restoring: {'_iteration': 33, '_timesteps_total': 263340, '_time_total': 2097.3482155799866, '_episodes_total': 2574}\n"
     ]
    }
   ],
   "source": [
    "# Restore agent from last checkpoint\n",
    "\n",
    "agent = ppo.PPOTrainer(\n",
    "    config={\n",
    "            \"env\": env_name,\n",
    "            \"num_workers\": 1,\n",
    "            \"num_gpus\": 0,\n",
    "            \"log_level\": \"INFO\",\n",
    "            \"explore\": False,\n",
    "            \"model\":{\n",
    "                \"fcnet_hiddens\": const.VAE_neurons,\n",
    "                \"fcnet_activation\": \"relu\",\n",
    "                \"free_log_std\": True,\n",
    "            }\n",
    "        })\n",
    "\n",
    "agent.restore(checkpoint_path)"
   ]
  },
  {
   "cell_type": "code",
   "execution_count": 6,
   "id": "9cfe65c9",
   "metadata": {},
   "outputs": [],
   "source": [
    "env = gym.wrappers.FrameStack(CMAPSSEnv(**env_config), const.num_frames)"
   ]
  },
  {
   "cell_type": "code",
   "execution_count": 53,
   "id": "d0b99bef",
   "metadata": {},
   "outputs": [
    {
     "name": "stdout",
     "output_type": "stream",
     "text": [
      "Current step: 50,System: 10, System life: 266, Steps until failure: 216\n"
     ]
    }
   ],
   "source": [
    "import bisect\n",
    "\n",
    "obs, done = env.reset(), False\n",
    "cntr = 0\n",
    "\n",
    "s = bisect.bisect_left(np.cumsum(engine_lives), env.timestep)\n",
    "steps_to_go = abs(env.timestep - np.cumsum(engine_lives[:s+1])[-1]) - 1\n",
    "current_step = abs(engine_lives[s] - steps_to_go)\n",
    "print(f'Current step: {current_step},System: {s}, System life: {engine_lives[s]}, Steps until failure: {steps_to_go}')"
   ]
  },
  {
   "cell_type": "code",
   "execution_count": 54,
   "id": "01b68545",
   "metadata": {
    "scrolled": true
   },
   "outputs": [
    {
     "data": {
      "text/plain": [
       "(216, 100, 25)"
      ]
     },
     "execution_count": 54,
     "metadata": {},
     "output_type": "execute_result"
    }
   ],
   "source": [
    "eval_data = np.empty([steps_to_go, const.num_frames, const.num_settings + const.num_sensors + 1])\n",
    "eval_data.shape"
   ]
  },
  {
   "cell_type": "code",
   "execution_count": 55,
   "id": "7e0b469d",
   "metadata": {
    "scrolled": false
   },
   "outputs": [],
   "source": [
    "while not done:\n",
    "    action = agent.compute_single_action(obs)\n",
    "    obs, _, done, _ = env.step(action)\n",
    "    eval_data[cntr] = obs\n",
    "    cntr += 1"
   ]
  },
  {
   "cell_type": "code",
   "execution_count": 56,
   "id": "d69ff78e",
   "metadata": {},
   "outputs": [
    {
     "data": {
      "text/plain": [
       "array([0.80960152, 0.80719151, 0.80478176, 0.80237635, 0.79996232,\n",
       "       0.79756082, 0.7951687 , 0.79279285, 0.79039757, 0.78798758,\n",
       "       0.78555137, 0.78313111, 0.78069043, 0.77824329, 0.77578644,\n",
       "       0.77332829, 0.77086485, 0.76841631, 0.76593757, 0.76342809,\n",
       "       0.76093001, 0.75840149, 0.75584631, 0.75325468, 0.75062048,\n",
       "       0.74793902, 0.74522615, 0.7424822 , 0.73968935, 0.73687384,\n",
       "       0.73402555, 0.73114442, 0.72823148, 0.72526706, 0.72227638,\n",
       "       0.71923681, 0.7161599 , 0.71306667, 0.70996755, 0.7068556 ,\n",
       "       0.70373353, 0.70057309, 0.69738377, 0.69414504, 0.6908599 ,\n",
       "       0.68752414, 0.68413671, 0.68072547, 0.67727394, 0.67377465,\n",
       "       0.67025336, 0.66670471, 0.66314218, 0.65951123, 0.65579945,\n",
       "       0.65202881, 0.64821879, 0.64434677, 0.64042782, 0.63644574,\n",
       "       0.63239968, 0.62830488, 0.62415236, 0.61990792, 0.61554674,\n",
       "       0.61109723, 0.60657235, 0.60198052, 0.59728362, 0.59252418,\n",
       "       0.58770196, 0.58275727, 0.57767317, 0.57243573, 0.56704083,\n",
       "       0.56153056, 0.5558557 , 0.55002452, 0.54405497, 0.53789916,\n",
       "       0.53155738, 0.52499076, 0.51825853, 0.51136766, 0.50435531,\n",
       "       0.49721622, 0.48996748, 0.48259519, 0.47512441, 0.4675492 ,\n",
       "       0.45988402, 0.45212545, 0.44431783, 0.4365096 , 0.42870067,\n",
       "       0.42089109, 0.41308094, 0.40527029, 0.39745917, 0.38964768,\n",
       "       0.38426446, 0.37886257, 0.37346031, 0.36805362, 0.36265548,\n",
       "       0.35724471, 0.35182449, 0.34638792, 0.3409707 , 0.33556807,\n",
       "       0.33019156, 0.32479899, 0.31942673, 0.31406084, 0.30870453,\n",
       "       0.30334942, 0.29799949, 0.29263455, 0.28729972, 0.28199553,\n",
       "       0.27667984, 0.27139449, 0.26613571, 0.26091328, 0.25573332,\n",
       "       0.25060051, 0.245499  , 0.24042847, 0.23540674, 0.23040758,\n",
       "       0.22544109, 0.22050734, 0.2156053 , 0.21075466, 0.20593018,\n",
       "       0.2011545 , 0.19641607, 0.19169386, 0.18697745, 0.18227378,\n",
       "       0.17758015, 0.1729248 , 0.16829824, 0.16372104, 0.15919017,\n",
       "       0.15470988, 0.15028122, 0.1458763 , 0.14151162, 0.13719465,\n",
       "       0.13289963, 0.12863171, 0.12437719, 0.12019058, 0.11608429,\n",
       "       0.11203638, 0.10802735, 0.1040799 , 0.10017897, 0.09634078,\n",
       "       0.09256622, 0.0888401 , 0.08517141, 0.08159434, 0.07813376,\n",
       "       0.07476127, 0.07146393, 0.06823333, 0.06510762, 0.06204429,\n",
       "       0.05904357, 0.05616516, 0.05342599, 0.05083998, 0.04841128,\n",
       "       0.04609778, 0.04394874, 0.04195589, 0.04010129, 0.03843283,\n",
       "       0.03695024, 0.03569239, 0.0346001 , 0.03366637, 0.03285409,\n",
       "       0.0321685 , 0.03159254, 0.03114008, 0.03078609, 0.03053651,\n",
       "       0.03037689, 0.03031064, 0.03029344, 0.03027685, 0.03026096,\n",
       "       0.03024571, 0.03023103, 0.03021686, 0.03020315, 0.0301898 ,\n",
       "       0.03017675, 0.03016382, 0.030151  , 0.03013826, 0.0301256 ,\n",
       "       0.03011302, 0.03010053, 0.03008812, 0.03007579, 0.03006357,\n",
       "       0.03005145, 0.03003944, 0.03002754, 0.03001574, 0.03000405,\n",
       "       0.02999247])"
      ]
     },
     "execution_count": 56,
     "metadata": {},
     "output_type": "execute_result"
    }
   ],
   "source": [
    "eval_data_avg = np.empty([steps_to_go, const.num_settings + const.num_sensors + 1])\n",
    "\n",
    "for i in range(steps_to_go):\n",
    "    eval_data_avg[i] = np.mean(eval_data[i,:,:], axis=0)\n",
    "\n",
    "eval_data_avg[:,0]"
   ]
  },
  {
   "cell_type": "code",
   "execution_count": 57,
   "id": "027bc939",
   "metadata": {},
   "outputs": [],
   "source": [
    "test_engine_df = df.iloc[np.cumsum(engine_lives[:s])[-1]+current_step:np.cumsum(engine_lives[:s])[-1]\\\n",
    "                         +engine_lives[s],1:].reset_index(drop=True)"
   ]
  },
  {
   "cell_type": "code",
   "execution_count": 58,
   "id": "35123567",
   "metadata": {},
   "outputs": [],
   "source": [
    "import pandas as pd\n",
    "\n",
    "eval_df = pd.DataFrame(eval_data_avg, columns=df.columns[1:])"
   ]
  },
  {
   "cell_type": "code",
   "execution_count": 59,
   "id": "44b05496",
   "metadata": {},
   "outputs": [],
   "source": [
    "decoded_df = pd.read_csv('decoded_df.csv')\n"
   ]
  },
  {
   "cell_type": "code",
   "execution_count": 60,
   "id": "1ec857e8",
   "metadata": {},
   "outputs": [],
   "source": [
    "test_engine_decoded_df = decoded_df.iloc[np.cumsum(engine_lives[:s])[-1]+current_step:np.cumsum(engine_lives[:s])[-1]\\\n",
    "                                 +engine_lives[s],:].reset_index(drop=True)\n"
   ]
  },
  {
   "cell_type": "code",
   "execution_count": 79,
   "id": "40218eef",
   "metadata": {},
   "outputs": [
    {
     "data": {
      "text/plain": [
       "(array([-0.1,  0. ,  0.1,  0.2,  0.3,  0.4,  0.5,  0.6,  0.7,  0.8,  0.9]),\n",
       " [Text(0, 0, ''),\n",
       "  Text(0, 0, ''),\n",
       "  Text(0, 0, ''),\n",
       "  Text(0, 0, ''),\n",
       "  Text(0, 0, ''),\n",
       "  Text(0, 0, ''),\n",
       "  Text(0, 0, ''),\n",
       "  Text(0, 0, ''),\n",
       "  Text(0, 0, ''),\n",
       "  Text(0, 0, ''),\n",
       "  Text(0, 0, '')])"
      ]
     },
     "execution_count": 79,
     "metadata": {},
     "output_type": "execute_result"
    },
    {
     "data": {
      "image/png": "[encoded data removed]",
      "text/plain": [
       "<Figure size 1440x720 with 1 Axes>"
      ]
     },
     "metadata": {
      "needs_background": "light"
     },
     "output_type": "display_data"
    }
   ],
   "source": [
    "# '''\n",
    "import matplotlib.pyplot as plt\n",
    "plt.rcParams[\"figure.figsize\"] = (20,10)\n",
    "\n",
    "plt.plot(test_engine_df['NormTime'],label=\"True RUL\")\n",
    "plt.plot(eval_df['NormTime'].iloc[:steps_to_go], color='black', ls='--', label=\"RL estimated RUL\")\n",
    "plt.plot(test_engine_decoded_df['NormTime'].iloc[:steps_to_go], color='red', ls='-.', label=\"VAE estimated RUL\")\n",
    "plt.legend(prop={'size': 12})\n",
    "plt.title('True vs. Est RUL', size=20)\n",
    "plt.xlabel('RUL', size=15)\n",
    "plt.xticks(fontsize=14)\n",
    "plt.ylabel('RUL (%)', size=15)\n",
    "plt.yticks(fontsize=14)"
   ]
  },
  {
   "cell_type": "code",
   "execution_count": 62,
   "id": "86e11539",
   "metadata": {},
   "outputs": [],
   "source": [
    "ray.shutdown()"
   ]
  },
  {
   "cell_type": "code",
   "execution_count": null,
   "id": "195dc0ae",
   "metadata": {},
   "outputs": [],
   "source": []
  }
 ],
 "metadata": {
  "kernelspec": {
   "display_name": "Python 3 (ipykernel)",
   "language": "python",
   "name": "python3"
  },
  "language_info": {
   "codemirror_mode": {
    "name": "ipython",
    "version": 3
   },
   "file_extension": ".py",
   "mimetype": "text/x-python",
   "name": "python",
   "nbconvert_exporter": "python",
   "pygments_lexer": "ipython3",
   "version": "3.8.12"
  }
 },
 "nbformat": 4,
 "nbformat_minor": 5
}
